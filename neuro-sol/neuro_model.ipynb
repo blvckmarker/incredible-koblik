{
 "cells": [
  {
   "cell_type": "code",
   "execution_count": 1,
   "metadata": {
    "execution": {
     "iopub.execute_input": "2023-11-12T07:03:43.058133Z",
     "iopub.status.busy": "2023-11-12T07:03:43.057076Z",
     "iopub.status.idle": "2023-11-12T07:03:48.783592Z",
     "shell.execute_reply": "2023-11-12T07:03:48.782236Z",
     "shell.execute_reply.started": "2023-11-12T07:03:43.058068Z"
    },
    "tags": []
   },
   "outputs": [
    {
     "name": "stdout",
     "output_type": "stream",
     "text": [
      "Defaulting to user installation because normal site-packages is not writeable\n",
      "Requirement already satisfied: av in /home/jupyter/.local/lib/python3.10/site-packages (11.0.0)\n",
      "\n",
      "\u001b[1m[\u001b[0m\u001b[34;49mnotice\u001b[0m\u001b[1;39;49m]\u001b[0m\u001b[39;49m A new release of pip is available: \u001b[0m\u001b[31;49m23.2.1\u001b[0m\u001b[39;49m -> \u001b[0m\u001b[32;49m23.3.1\u001b[0m\n",
      "\u001b[1m[\u001b[0m\u001b[34;49mnotice\u001b[0m\u001b[1;39;49m]\u001b[0m\u001b[39;49m To update, run: \u001b[0m\u001b[32;49mpython3 -m pip install --upgrade pip\u001b[0m\n"
     ]
    }
   ],
   "source": [
    "%pip install av"
   ]
  },
  {
   "cell_type": "code",
   "execution_count": 2,
   "metadata": {
    "execution": {
     "iopub.execute_input": "2023-11-12T07:03:48.786289Z",
     "iopub.status.busy": "2023-11-12T07:03:48.785608Z",
     "iopub.status.idle": "2023-11-12T07:03:54.669478Z",
     "shell.execute_reply": "2023-11-12T07:03:54.668315Z",
     "shell.execute_reply.started": "2023-11-12T07:03:48.786239Z"
    },
    "tags": []
   },
   "outputs": [
    {
     "name": "stderr",
     "output_type": "stream",
     "text": [
      "error: XDG_RUNTIME_DIR not set in the environment.\n",
      "ALSA lib confmisc.c:855:(parse_card) cannot find card '0'\n",
      "ALSA lib conf.c:5178:(_snd_config_evaluate) function snd_func_card_inum returned error: No such file or directory\n",
      "ALSA lib confmisc.c:422:(snd_func_concat) error evaluating strings\n",
      "ALSA lib conf.c:5178:(_snd_config_evaluate) function snd_func_concat returned error: No such file or directory\n",
      "ALSA lib confmisc.c:1334:(snd_func_refer) error evaluating name\n",
      "ALSA lib conf.c:5178:(_snd_config_evaluate) function snd_func_refer returned error: No such file or directory\n",
      "ALSA lib conf.c:5701:(snd_config_expand) Evaluate error: No such file or directory\n",
      "ALSA lib pcm.c:2664:(snd_pcm_open_noupdate) Unknown PCM default\n",
      "ALSA lib confmisc.c:855:(parse_card) cannot find card '0'\n",
      "ALSA lib conf.c:5178:(_snd_config_evaluate) function snd_func_card_inum returned error: No such file or directory\n",
      "ALSA lib confmisc.c:422:(snd_func_concat) error evaluating strings\n",
      "ALSA lib conf.c:5178:(_snd_config_evaluate) function snd_func_concat returned error: No such file or directory\n",
      "ALSA lib confmisc.c:1334:(snd_func_refer) error evaluating name\n",
      "ALSA lib conf.c:5178:(_snd_config_evaluate) function snd_func_refer returned error: No such file or directory\n",
      "ALSA lib conf.c:5701:(snd_config_expand) Evaluate error: No such file or directory\n",
      "ALSA lib pcm.c:2664:(snd_pcm_open_noupdate) Unknown PCM default\n",
      "2023-11-12 07:03:51.671149: I tensorflow/core/platform/cpu_feature_guard.cc:182] This TensorFlow binary is optimized to use available CPU instructions in performance-critical operations.\n",
      "To enable the following instructions: AVX2 FMA, in other operations, rebuild TensorFlow with the appropriate compiler flags.\n",
      "2023-11-12 07:03:53.059078: W tensorflow/compiler/tf2tensorrt/utils/py_utils.cc:38] TF-TRT Warning: Could not find TensorRT\n"
     ]
    }
   ],
   "source": [
    "import torch\n",
    "import torch.nn.functional as F\n",
    "import torch.nn as nn\n",
    "import numpy as np\n",
    "import pandas\n",
    "import os\n",
    "import matplotlib.pyplot as plt\n",
    "from PIL import Image\n",
    "import torchvision\n",
    "from torch.utils.data import Dataset, DataLoader\n",
    "from moviepy.editor import VideoFileClip, vfx\n",
    "from moviepy.video.io.ffmpeg_tools import ffmpeg_extract_subclip\n",
    "import moviepy\n",
    "import tensorflow as tf\n",
    "import av\n",
    "import cv2"
   ]
  },
  {
   "cell_type": "code",
   "execution_count": 3,
   "metadata": {
    "execution": {
     "iopub.execute_input": "2023-11-12T07:03:54.673184Z",
     "iopub.status.busy": "2023-11-12T07:03:54.672284Z",
     "iopub.status.idle": "2023-11-12T07:03:54.685094Z",
     "shell.execute_reply": "2023-11-12T07:03:54.684051Z",
     "shell.execute_reply.started": "2023-11-12T07:03:54.673133Z"
    },
    "tags": []
   },
   "outputs": [],
   "source": [
    "# data = []\n",
    "# path = ''\n",
    "# numbers = os.listdir(path)\n",
    "# for number in numbers:\n",
    "#     names = os.listdir(path + number)[:100]\n",
    "#     for name in names:\n",
    "#         im_frame = Image.open(f'{path}/{number}/{name}')\n",
    "#         np_frame = np.array(im_frame.getdata()).reshape(3, 1920, 1080)\n",
    "#         data.append(np_frame)\n",
    "\n",
    "# data = np.array(data)"
   ]
  },
  {
   "cell_type": "code",
   "execution_count": 4,
   "metadata": {
    "execution": {
     "iopub.execute_input": "2023-11-12T07:03:54.687511Z",
     "iopub.status.busy": "2023-11-12T07:03:54.686977Z",
     "iopub.status.idle": "2023-11-12T07:03:54.698340Z",
     "shell.execute_reply": "2023-11-12T07:03:54.697387Z",
     "shell.execute_reply.started": "2023-11-12T07:03:54.687481Z"
    },
    "tags": []
   },
   "outputs": [],
   "source": [
    "# class Dataset(Dataset):\n",
    "#     def __init__(self, data):\n",
    "#         self.data = torch.tensor(data / 255).type(torch.float)\n",
    "\n",
    "#         labels = []\n",
    "#         for i in range(10):\n",
    "#             for j in range(int(len(data) / 10)):\n",
    "#                 labels.append(i)\n",
    "#         self.labels = labels\n",
    "\n",
    "#     def __getitem__(self, idx):\n",
    "#         return self.data[idx], self.labels[idx]\n",
    "\n",
    "#     def __len__(self):\n",
    "#         return len(self.data)"
   ]
  },
  {
   "cell_type": "code",
   "execution_count": 5,
   "metadata": {
    "execution": {
     "iopub.execute_input": "2023-11-12T07:03:54.700458Z",
     "iopub.status.busy": "2023-11-12T07:03:54.699246Z",
     "iopub.status.idle": "2023-11-12T07:03:54.710786Z",
     "shell.execute_reply": "2023-11-12T07:03:54.709827Z",
     "shell.execute_reply.started": "2023-11-12T07:03:54.700376Z"
    },
    "tags": []
   },
   "outputs": [],
   "source": [
    "# dataset = Dataset(data)\n",
    "# dataloader = DataLoader(dataset, shuffle=True, batch_size = 16)\n",
    "\n",
    "# samples, labels = next(iter(dataloader))"
   ]
  },
  {
   "cell_type": "code",
   "execution_count": 6,
   "metadata": {
    "execution": {
     "iopub.execute_input": "2023-11-12T07:03:54.712649Z",
     "iopub.status.busy": "2023-11-12T07:03:54.711816Z",
     "iopub.status.idle": "2023-11-12T07:03:54.729010Z",
     "shell.execute_reply": "2023-11-12T07:03:54.728004Z",
     "shell.execute_reply.started": "2023-11-12T07:03:54.712616Z"
    },
    "tags": []
   },
   "outputs": [],
   "source": [
    "class Net(nn.Module):\n",
    "    def __init__(self):\n",
    "        super(Net, self).__init__()\n",
    "        self.conv1 = nn.Conv3d(in_channels=3,out_channels=32, kernel_size=5,padding=2, stride=1)\n",
    "        self.conv2 = nn.Conv3d(in_channels=32,out_channels=64, kernel_size=3,padding=1, stride=1)\n",
    "        self.conv3 = nn.Conv3d(in_channels=64,out_channels=128, kernel_size=3,padding=1, stride=2, dilation=2)\n",
    "        self.conv4 = nn.Conv3d(in_channels=128,out_channels=256, kernel_size=3,padding=1, stride=2)\n",
    "        self.conv5 = nn.Conv3d(in_channels=256,out_channels=512, kernel_size=1,padding=1, stride=2, dilation=1)\n",
    "        self.conv6 = nn.Conv3d(in_channels=512,out_channels=1024, kernel_size=1,padding=1, stride=2,  dilation=1)\n",
    "        self.pool1 = nn.MaxPool3d(2,2)\n",
    "        self.pool2 = nn.MaxPool3d(1,1)\n",
    "        self.fc1 = nn.Linear(24576, 10000)\n",
    "        self.fc2 = nn.Linear(10000, 500)\n",
    "        self.fc3 = nn.Linear(500, 3)\n",
    "        self.seq1 = x = nn.Sequential(self.conv1, self.pool1, nn.ReLU(), \n",
    "                          self.conv2, self.pool1, nn.ReLU(),\n",
    "                          self.conv3, self.pool2, nn.ReLU()\n",
    "                          )\n",
    "        self.seq2 = nn.Sequential(self.conv4, self.conv5, self.conv6, self.pool2,  nn.Flatten(1))\n",
    "\n",
    "\n",
    "    def forward(self, x):\n",
    "        x = self.seq1(x)\n",
    "        x = self.seq2(x)\n",
    "        x = x.view(x.size(0),-1)\n",
    "        x = F.relu(self.fc1(x))\n",
    "        x = F.relu(self.fc2(x))\n",
    "        x = self.fc3(x)\n",
    "        return x\n"
   ]
  },
  {
   "cell_type": "code",
   "execution_count": 7,
   "metadata": {
    "execution": {
     "iopub.execute_input": "2023-11-12T07:03:54.730739Z",
     "iopub.status.busy": "2023-11-12T07:03:54.730182Z",
     "iopub.status.idle": "2023-11-12T07:03:54.746510Z",
     "shell.execute_reply": "2023-11-12T07:03:54.745360Z",
     "shell.execute_reply.started": "2023-11-12T07:03:54.730698Z"
    },
    "tags": []
   },
   "outputs": [],
   "source": [
    "# torch.cuda.empty_cache()\n",
    "\n",
    "# b = torch.zeros(8, 3, 15, 64, 128).to('cuda')\n",
    "# # b = torch.zeros(batch_size=8, chanels=3, frames=5, height=64, weight=128).to('cuda')"
   ]
  },
  {
   "cell_type": "code",
   "execution_count": 40,
   "metadata": {
    "execution": {
     "iopub.execute_input": "2023-11-12T07:40:38.361870Z",
     "iopub.status.busy": "2023-11-12T07:40:38.360718Z",
     "iopub.status.idle": "2023-11-12T07:42:44.349310Z",
     "shell.execute_reply": "2023-11-12T07:42:44.348176Z",
     "shell.execute_reply.started": "2023-11-12T07:40:38.361831Z"
    },
    "tags": []
   },
   "outputs": [
    {
     "name": "stdout",
     "output_type": "stream",
     "text": [
      "Moviepy - Running:\n",
      ">>> \"+ \" \".join(cmd)\n",
      "Moviepy - Command successful\n",
      "Moviepy - Running:\n",
      ">>> \"+ \" \".join(cmd)\n",
      "Moviepy - Command successful\n",
      "Moviepy - Running:\n",
      ">>> \"+ \" \".join(cmd)\n",
      "Moviepy - Command successful\n",
      "Moviepy - Running:\n",
      ">>> \"+ \" \".join(cmd)\n",
      "Moviepy - Command successful\n",
      "Moviepy - Running:\n",
      ">>> \"+ \" \".join(cmd)\n",
      "Moviepy - Command successful\n",
      "Moviepy - Running:\n",
      ">>> \"+ \" \".join(cmd)\n",
      "Moviepy - Command successful\n",
      "Moviepy - Running:\n",
      ">>> \"+ \" \".join(cmd)\n",
      "Moviepy - Command successful\n",
      "Moviepy - Running:\n",
      ">>> \"+ \" \".join(cmd)\n",
      "Moviepy - Command successful\n",
      "Moviepy - Running:\n",
      ">>> \"+ \" \".join(cmd)\n",
      "Moviepy - Command successful\n",
      "Moviepy - Running:\n",
      ">>> \"+ \" \".join(cmd)\n",
      "Moviepy - Command successful\n",
      "Moviepy - Running:\n",
      ">>> \"+ \" \".join(cmd)\n",
      "Moviepy - Command successful\n",
      "Moviepy - Running:\n",
      ">>> \"+ \" \".join(cmd)\n",
      "Moviepy - Command successful\n",
      "Moviepy - Running:\n",
      ">>> \"+ \" \".join(cmd)\n",
      "Moviepy - Command successful\n",
      "Moviepy - Running:\n",
      ">>> \"+ \" \".join(cmd)\n",
      "Moviepy - Command successful\n",
      "Moviepy - Running:\n",
      ">>> \"+ \" \".join(cmd)\n",
      "Moviepy - Command successful\n",
      "Moviepy - Running:\n",
      ">>> \"+ \" \".join(cmd)\n",
      "Moviepy - Command successful\n",
      "Moviepy - Running:\n",
      ">>> \"+ \" \".join(cmd)\n",
      "Moviepy - Command successful\n",
      "Moviepy - Running:\n",
      ">>> \"+ \" \".join(cmd)\n",
      "Moviepy - Command successful\n",
      "Moviepy - Running:\n",
      ">>> \"+ \" \".join(cmd)\n",
      "Moviepy - Command successful\n",
      "Moviepy - Running:\n",
      ">>> \"+ \" \".join(cmd)\n",
      "Moviepy - Command successful\n",
      "Moviepy - Running:\n",
      ">>> \"+ \" \".join(cmd)\n",
      "Moviepy - Command successful\n",
      "Moviepy - Running:\n",
      ">>> \"+ \" \".join(cmd)\n",
      "Moviepy - Command successful\n",
      "Moviepy - Running:\n",
      ">>> \"+ \" \".join(cmd)\n",
      "Moviepy - Command successful\n",
      "Moviepy - Running:\n",
      ">>> \"+ \" \".join(cmd)\n",
      "Moviepy - Command successful\n",
      "Moviepy - Running:\n",
      ">>> \"+ \" \".join(cmd)\n",
      "Moviepy - Command successful\n",
      "Moviepy - Running:\n",
      ">>> \"+ \" \".join(cmd)\n",
      "Moviepy - Command successful\n",
      "Moviepy - Running:\n",
      ">>> \"+ \" \".join(cmd)\n",
      "Moviepy - Command successful\n",
      "Moviepy - Running:\n",
      ">>> \"+ \" \".join(cmd)\n",
      "Moviepy - Command successful\n",
      "Moviepy - Running:\n",
      ">>> \"+ \" \".join(cmd)\n",
      "Moviepy - Command successful\n",
      "Moviepy - Running:\n",
      ">>> \"+ \" \".join(cmd)\n",
      "Moviepy - Command successful\n",
      "Moviepy - Running:\n",
      ">>> \"+ \" \".join(cmd)\n",
      "Moviepy - Command successful\n",
      "Moviepy - Running:\n",
      ">>> \"+ \" \".join(cmd)\n",
      "Moviepy - Command successful\n",
      "Moviepy - Running:\n",
      ">>> \"+ \" \".join(cmd)\n",
      "Moviepy - Command successful\n",
      "Moviepy - Running:\n",
      ">>> \"+ \" \".join(cmd)\n",
      "Moviepy - Command successful\n",
      "Moviepy - Running:\n",
      ">>> \"+ \" \".join(cmd)\n",
      "Moviepy - Command successful\n",
      "Moviepy - Running:\n",
      ">>> \"+ \" \".join(cmd)\n",
      "Moviepy - Command successful\n",
      "Moviepy - Running:\n",
      ">>> \"+ \" \".join(cmd)\n",
      "Moviepy - Command successful\n",
      "Moviepy - Running:\n",
      ">>> \"+ \" \".join(cmd)\n",
      "Moviepy - Command successful\n",
      "Moviepy - Running:\n",
      ">>> \"+ \" \".join(cmd)\n",
      "Moviepy - Command successful\n",
      "Moviepy - Running:\n",
      ">>> \"+ \" \".join(cmd)\n",
      "Moviepy - Command successful\n",
      "Moviepy - Running:\n",
      ">>> \"+ \" \".join(cmd)\n",
      "Moviepy - Command successful\n",
      "Moviepy - Running:\n",
      ">>> \"+ \" \".join(cmd)\n",
      "Moviepy - Command successful\n",
      "Moviepy - Running:\n",
      ">>> \"+ \" \".join(cmd)\n",
      "Moviepy - Command successful\n",
      "Moviepy - Running:\n",
      ">>> \"+ \" \".join(cmd)\n",
      "Moviepy - Command successful\n"
     ]
    }
   ],
   "source": [
    "def split_video_frame(video_path):\n",
    "    cap = cv2.VideoCapture(video_path)\n",
    "\n",
    "    frame_width = int(cap.get(3))\n",
    "\n",
    "    fourcc = cv2.VideoWriter_fourcc(*'mp4v')\n",
    "    out_left = cv2.VideoWriter('left_half.mp4', fourcc, 25.0, (frame_width//2, 1080))\n",
    "    out_right = cv2.VideoWriter('right_half.mp4', fourcc, 25.0, (frame_width//2, 1080))\n",
    "\n",
    "    while(cap.isOpened()):\n",
    "        ret, frame = cap.read()\n",
    "        if ret == True:\n",
    "            left_frame = frame[:, :frame_width//2]\n",
    "            right_frame = frame[:, frame_width//2:]\n",
    "\n",
    "            out_left.write(left_frame)\n",
    "            out_right.write(right_frame)\n",
    "        else:\n",
    "            break\n",
    "\n",
    "    cap.release()\n",
    "    out_left.release()\n",
    "    out_right.release()\n",
    "    cv2.destroyAllWindows()\n",
    "\n",
    "inputs_right = []\n",
    "inputs_left = []\n",
    "split_video_frame('learn.mp4')\n",
    "\n",
    "\n",
    "def video_to_tensor(video_path):\n",
    "    cap = cv2.VideoCapture(video_path)\n",
    "    frames = []\n",
    "     \n",
    "    while(cap.isOpened()):\n",
    "        ret, frame = cap.read()\n",
    "         \n",
    "        if not ret:\n",
    "            break\n",
    "         \n",
    "        frame = cv2.resize(frame, (64, 128))\n",
    "        frame = cv2.cvtColor(frame, cv2.COLOR_BGR2RGB)\n",
    "        \n",
    "        frames.append(frame)\n",
    "         \n",
    "    cap.release()\n",
    "     \n",
    "    frames = frames[:5]\n",
    "    while len(frames) < 5:\n",
    "        frames.append(np.zeros((64, 128, 3), dtype=np.uint8))\n",
    "     \n",
    "    tensor = np.array(frames)\n",
    "    tensor = np.transpose(tensor, (0, 3, 1, 2))\n",
    "    \n",
    "    tensor = np.expand_dims(tensor, 0)\n",
    "    tensor = np.repeat(tensor, 8, axis=0)\n",
    "    \n",
    "    tensor = torch.from_numpy(tensor)\n",
    "     \n",
    "    return tensor\n",
    "\n",
    "\n",
    "right_video_path = \"right_half.mp4\"\n",
    "rigth_video = moviepy.editor.VideoFileClip(right_video_path)\n",
    "right_duration = int(rigth_video.duration)\n",
    "left_video_path = \"left_half.mp4\"\n",
    "left_video = moviepy.editor.VideoFileClip(left_video_path)\n",
    "left_duration = int(left_video.duration)\n",
    "for i in range(0, right_duration, 5):\n",
    "    start = i\n",
    "    end = (i + 5) if (i + 5) < right_duration else right_duration\n",
    "    output = f\"output_{start}_{end}.mp4\"\n",
    "    ffmpeg_extract_subclip(right_video_path, start, end, targetname=output)\n",
    "    inputs_right.append(video_to_tensor(output))\n",
    "\n",
    "# for i in range(0, left_duration, 5):\n",
    "#     start = i\n",
    "#     end = (i + 5) if (i + 5) < left_duration else left_duration\n",
    "#     output = f\"output_{start}_{end}.mp4\"\n",
    "#     ffmpeg_extract_subclip(left_video_path, start, end, targetname=output)\n",
    "#     inputs_left.append(video_to_tensor(output))"
   ]
  },
  {
   "cell_type": "code",
   "execution_count": 41,
   "metadata": {
    "execution": {
     "iopub.execute_input": "2023-11-12T07:42:53.116370Z",
     "iopub.status.busy": "2023-11-12T07:42:53.115247Z",
     "iopub.status.idle": "2023-11-12T07:42:53.132520Z",
     "shell.execute_reply": "2023-11-12T07:42:53.131422Z",
     "shell.execute_reply.started": "2023-11-12T07:42:53.116316Z"
    },
    "tags": []
   },
   "outputs": [
    {
     "data": {
      "text/plain": [
       "torch.Size([8, 5, 3, 128, 64])"
      ]
     },
     "execution_count": 41,
     "metadata": {},
     "output_type": "execute_result"
    }
   ],
   "source": [
    "inputs_right[0].shape"
   ]
  },
  {
   "cell_type": "code",
   "execution_count": 42,
   "metadata": {
    "execution": {
     "iopub.execute_input": "2023-11-12T07:42:54.404900Z",
     "iopub.status.busy": "2023-11-12T07:42:54.403867Z",
     "iopub.status.idle": "2023-11-12T07:42:54.417548Z",
     "shell.execute_reply": "2023-11-12T07:42:54.416366Z",
     "shell.execute_reply.started": "2023-11-12T07:42:54.404853Z"
    },
    "tags": []
   },
   "outputs": [],
   "source": [
    "labels = [1] * 12 + [0] * 12 + [2] * 12"
   ]
  },
  {
   "cell_type": "code",
   "execution_count": 43,
   "metadata": {
    "execution": {
     "iopub.execute_input": "2023-11-12T07:42:56.655586Z",
     "iopub.status.busy": "2023-11-12T07:42:56.654728Z",
     "iopub.status.idle": "2023-11-12T07:42:56.669369Z",
     "shell.execute_reply": "2023-11-12T07:42:56.668153Z",
     "shell.execute_reply.started": "2023-11-12T07:42:56.655554Z"
    },
    "tags": []
   },
   "outputs": [],
   "source": [
    "inputs_right = inputs_right[:36]"
   ]
  },
  {
   "cell_type": "code",
   "execution_count": 44,
   "metadata": {
    "execution": {
     "iopub.execute_input": "2023-11-12T07:42:57.800726Z",
     "iopub.status.busy": "2023-11-12T07:42:57.799861Z",
     "iopub.status.idle": "2023-11-12T07:42:57.821983Z",
     "shell.execute_reply": "2023-11-12T07:42:57.820779Z",
     "shell.execute_reply.started": "2023-11-12T07:42:57.800692Z"
    },
    "tags": []
   },
   "outputs": [],
   "source": [
    "# torch.cuda.empty_cache()\n",
    "\n",
    "# b = torch.zeros(8, 3, 15, 64, 128).to('cuda')"
   ]
  },
  {
   "cell_type": "code",
   "execution_count": 45,
   "metadata": {
    "execution": {
     "iopub.execute_input": "2023-11-12T07:42:58.652208Z",
     "iopub.status.busy": "2023-11-12T07:42:58.651305Z",
     "iopub.status.idle": "2023-11-12T07:42:58.667712Z",
     "shell.execute_reply": "2023-11-12T07:42:58.666576Z",
     "shell.execute_reply.started": "2023-11-12T07:42:58.652174Z"
    },
    "tags": []
   },
   "outputs": [
    {
     "data": {
      "text/plain": [
       "torch.Size([8, 3, 5, 64, 128])"
      ]
     },
     "execution_count": 45,
     "metadata": {},
     "output_type": "execute_result"
    }
   ],
   "source": [
    "np.transpose(inputs_right[0], (0, 2, 1, 4, 3)).shape"
   ]
  },
  {
   "cell_type": "code",
   "execution_count": 46,
   "metadata": {
    "execution": {
     "iopub.execute_input": "2023-11-12T07:43:00.584647Z",
     "iopub.status.busy": "2023-11-12T07:43:00.583427Z",
     "iopub.status.idle": "2023-11-12T07:43:03.306265Z",
     "shell.execute_reply": "2023-11-12T07:43:03.304533Z",
     "shell.execute_reply.started": "2023-11-12T07:43:00.584596Z"
    },
    "tags": []
   },
   "outputs": [
    {
     "ename": "ValueError",
     "evalue": "axes don't match array",
     "output_type": "error",
     "traceback": [
      "\u001b[0;31m---------------------------------------------------------------------------\u001b[0m",
      "\u001b[0;31mTypeError\u001b[0m                                 Traceback (most recent call last)",
      "\u001b[0;32m/usr/local/lib/python3.10/dist-packages/numpy/core/fromnumeric.py\u001b[0m in \u001b[0;36m_wrapfunc\u001b[0;34m(obj, method, *args, **kwds)\u001b[0m\n\u001b[1;32m     56\u001b[0m     \u001b[0;32mtry\u001b[0m\u001b[0;34m:\u001b[0m\u001b[0;34m\u001b[0m\u001b[0;34m\u001b[0m\u001b[0m\n\u001b[0;32m---> 57\u001b[0;31m         \u001b[0;32mreturn\u001b[0m \u001b[0mbound\u001b[0m\u001b[0;34m(\u001b[0m\u001b[0;34m*\u001b[0m\u001b[0margs\u001b[0m\u001b[0;34m,\u001b[0m \u001b[0;34m**\u001b[0m\u001b[0mkwds\u001b[0m\u001b[0;34m)\u001b[0m\u001b[0;34m\u001b[0m\u001b[0;34m\u001b[0m\u001b[0m\n\u001b[0m\u001b[1;32m     58\u001b[0m     \u001b[0;32mexcept\u001b[0m \u001b[0mTypeError\u001b[0m\u001b[0;34m:\u001b[0m\u001b[0;34m\u001b[0m\u001b[0;34m\u001b[0m\u001b[0m\n",
      "\u001b[0;31mTypeError\u001b[0m: transpose() received an invalid combination of arguments - got (tuple), but expected one of:\n * (int dim0, int dim1)\n * (name dim0, name dim1)\n",
      "\nDuring handling of the above exception, another exception occurred:\n",
      "\u001b[0;31mValueError\u001b[0m                                Traceback (most recent call last)",
      "\u001b[0;32m<ipython-input-46-67c004480a1c>\u001b[0m in \u001b[0;36m<module>\u001b[0;34m\u001b[0m\n\u001b[1;32m     46\u001b[0m         \u001b[0moptimizer\u001b[0m\u001b[0;34m.\u001b[0m\u001b[0mzero_grad\u001b[0m\u001b[0;34m(\u001b[0m\u001b[0;34m)\u001b[0m\u001b[0;34m\u001b[0m\u001b[0;34m\u001b[0m\u001b[0m\n\u001b[1;32m     47\u001b[0m         \u001b[0;31m# Подайте входные данные в модель и получите выходные данные\u001b[0m\u001b[0;34m\u001b[0m\u001b[0;34m\u001b[0m\u001b[0m\n\u001b[0;32m---> 48\u001b[0;31m         \u001b[0moutputs\u001b[0m \u001b[0;34m=\u001b[0m \u001b[0mmodel\u001b[0m\u001b[0;34m(\u001b[0m\u001b[0mnp\u001b[0m\u001b[0;34m.\u001b[0m\u001b[0mtranspose\u001b[0m\u001b[0;34m(\u001b[0m\u001b[0minputs\u001b[0m\u001b[0;34m,\u001b[0m \u001b[0;34m(\u001b[0m\u001b[0;36m0\u001b[0m\u001b[0;34m,\u001b[0m \u001b[0;36m2\u001b[0m\u001b[0;34m,\u001b[0m \u001b[0;36m1\u001b[0m\u001b[0;34m,\u001b[0m \u001b[0;36m4\u001b[0m\u001b[0;34m,\u001b[0m \u001b[0;36m3\u001b[0m\u001b[0;34m)\u001b[0m\u001b[0;34m)\u001b[0m\u001b[0;34m)\u001b[0m\u001b[0;34m\u001b[0m\u001b[0;34m\u001b[0m\u001b[0m\n\u001b[0m\u001b[1;32m     49\u001b[0m         \u001b[0;31m# Вычислите потерю, сравнивая выходные данные и целевые данные\u001b[0m\u001b[0;34m\u001b[0m\u001b[0;34m\u001b[0m\u001b[0m\n\u001b[1;32m     50\u001b[0m         \u001b[0mloss\u001b[0m \u001b[0;34m=\u001b[0m \u001b[0mcriterion\u001b[0m\u001b[0;34m(\u001b[0m\u001b[0moutputs\u001b[0m\u001b[0;34m,\u001b[0m \u001b[0mtargets\u001b[0m\u001b[0;34m)\u001b[0m\u001b[0;34m\u001b[0m\u001b[0;34m\u001b[0m\u001b[0m\n",
      "\u001b[0;32m/usr/local/lib/python3.10/dist-packages/numpy/core/overrides.py\u001b[0m in \u001b[0;36mtranspose\u001b[0;34m(*args, **kwargs)\u001b[0m\n",
      "\u001b[0;32m/usr/local/lib/python3.10/dist-packages/numpy/core/fromnumeric.py\u001b[0m in \u001b[0;36mtranspose\u001b[0;34m(a, axes)\u001b[0m\n\u001b[1;32m    658\u001b[0m \u001b[0;34m\u001b[0m\u001b[0m\n\u001b[1;32m    659\u001b[0m     \"\"\"\n\u001b[0;32m--> 660\u001b[0;31m     \u001b[0;32mreturn\u001b[0m \u001b[0m_wrapfunc\u001b[0m\u001b[0;34m(\u001b[0m\u001b[0ma\u001b[0m\u001b[0;34m,\u001b[0m \u001b[0;34m'transpose'\u001b[0m\u001b[0;34m,\u001b[0m \u001b[0maxes\u001b[0m\u001b[0;34m)\u001b[0m\u001b[0;34m\u001b[0m\u001b[0;34m\u001b[0m\u001b[0m\n\u001b[0m\u001b[1;32m    661\u001b[0m \u001b[0;34m\u001b[0m\u001b[0m\n\u001b[1;32m    662\u001b[0m \u001b[0;34m\u001b[0m\u001b[0m\n",
      "\u001b[0;32m/usr/local/lib/python3.10/dist-packages/numpy/core/fromnumeric.py\u001b[0m in \u001b[0;36m_wrapfunc\u001b[0;34m(obj, method, *args, **kwds)\u001b[0m\n\u001b[1;32m     64\u001b[0m         \u001b[0;31m# Call _wrapit from within the except clause to ensure a potential\u001b[0m\u001b[0;34m\u001b[0m\u001b[0;34m\u001b[0m\u001b[0m\n\u001b[1;32m     65\u001b[0m         \u001b[0;31m# exception has a traceback chain.\u001b[0m\u001b[0;34m\u001b[0m\u001b[0;34m\u001b[0m\u001b[0m\n\u001b[0;32m---> 66\u001b[0;31m         \u001b[0;32mreturn\u001b[0m \u001b[0m_wrapit\u001b[0m\u001b[0;34m(\u001b[0m\u001b[0mobj\u001b[0m\u001b[0;34m,\u001b[0m \u001b[0mmethod\u001b[0m\u001b[0;34m,\u001b[0m \u001b[0;34m*\u001b[0m\u001b[0margs\u001b[0m\u001b[0;34m,\u001b[0m \u001b[0;34m**\u001b[0m\u001b[0mkwds\u001b[0m\u001b[0;34m)\u001b[0m\u001b[0;34m\u001b[0m\u001b[0;34m\u001b[0m\u001b[0m\n\u001b[0m\u001b[1;32m     67\u001b[0m \u001b[0;34m\u001b[0m\u001b[0m\n\u001b[1;32m     68\u001b[0m \u001b[0;34m\u001b[0m\u001b[0m\n",
      "\u001b[0;32m/usr/local/lib/python3.10/dist-packages/numpy/core/fromnumeric.py\u001b[0m in \u001b[0;36m_wrapit\u001b[0;34m(obj, method, *args, **kwds)\u001b[0m\n\u001b[1;32m     41\u001b[0m     \u001b[0;32mexcept\u001b[0m \u001b[0mAttributeError\u001b[0m\u001b[0;34m:\u001b[0m\u001b[0;34m\u001b[0m\u001b[0;34m\u001b[0m\u001b[0m\n\u001b[1;32m     42\u001b[0m         \u001b[0mwrap\u001b[0m \u001b[0;34m=\u001b[0m \u001b[0;32mNone\u001b[0m\u001b[0;34m\u001b[0m\u001b[0;34m\u001b[0m\u001b[0m\n\u001b[0;32m---> 43\u001b[0;31m     \u001b[0mresult\u001b[0m \u001b[0;34m=\u001b[0m \u001b[0mgetattr\u001b[0m\u001b[0;34m(\u001b[0m\u001b[0masarray\u001b[0m\u001b[0;34m(\u001b[0m\u001b[0mobj\u001b[0m\u001b[0;34m)\u001b[0m\u001b[0;34m,\u001b[0m \u001b[0mmethod\u001b[0m\u001b[0;34m)\u001b[0m\u001b[0;34m(\u001b[0m\u001b[0;34m*\u001b[0m\u001b[0margs\u001b[0m\u001b[0;34m,\u001b[0m \u001b[0;34m**\u001b[0m\u001b[0mkwds\u001b[0m\u001b[0;34m)\u001b[0m\u001b[0;34m\u001b[0m\u001b[0;34m\u001b[0m\u001b[0m\n\u001b[0m\u001b[1;32m     44\u001b[0m     \u001b[0;32mif\u001b[0m \u001b[0mwrap\u001b[0m\u001b[0;34m:\u001b[0m\u001b[0;34m\u001b[0m\u001b[0;34m\u001b[0m\u001b[0m\n\u001b[1;32m     45\u001b[0m         \u001b[0;32mif\u001b[0m \u001b[0;32mnot\u001b[0m \u001b[0misinstance\u001b[0m\u001b[0;34m(\u001b[0m\u001b[0mresult\u001b[0m\u001b[0;34m,\u001b[0m \u001b[0mmu\u001b[0m\u001b[0;34m.\u001b[0m\u001b[0mndarray\u001b[0m\u001b[0;34m)\u001b[0m\u001b[0;34m:\u001b[0m\u001b[0;34m\u001b[0m\u001b[0;34m\u001b[0m\u001b[0m\n",
      "\u001b[0;31mValueError\u001b[0m: axes don't match array"
     ]
    }
   ],
   "source": [
    "device = torch.device(\"cuda\" if torch.cuda.is_available() else \"cpu\")\n",
    "\n",
    "class VideoDataset(Dataset):\n",
    "    def __init__(self, inputs_right, labels):\n",
    "        self.inputs_right = inputs_right\n",
    "        self.labels = labels\n",
    "\n",
    "        self.length = len(inputs_right)\n",
    "\n",
    "    def __getitem__(self, index):\n",
    "        return self.inputs_right[index], self.labels[index]\n",
    "\n",
    "    def __len__(self):    \n",
    "        return self.length\n",
    "\n",
    "dataset = VideoDataset(np.array(inputs_right), np.array(labels))\n",
    "\n",
    "dataloader = DataLoader(dataset, shuffle=True, batch_size = 2)\n",
    "\n",
    "model = Net().to(device)\n",
    "\n",
    "criterion = torch.nn.MSELoss()\n",
    "optimizer = torch.optim.Adam(model.parameters(), lr=0.001)\n",
    "\n",
    "epochs = 10\n",
    "\n",
    "for epoch in range(epochs):\n",
    "    running_loss = 0.0\n",
    "    batch_count = 0\n",
    "    for inputs, targets in dataloader:\n",
    "        optimizer.zero_grad()\n",
    "        outputs = model(np.transpose(inputs, (0, 2, 1, 4, 3)))\n",
    "        loss = criterion(outputs, targets)\n",
    "        loss.backward()\n",
    "        optimizer.step()\n",
    "        running_loss += loss.item()\n",
    "        batch_count += 1\n",
    "    print(f\"Epoch {epoch+1}, loss: {running_loss / batch_count}\")\n",
    "\n",
    "torch.save(model, \"model.pth\")"
   ]
  },
  {
   "cell_type": "code",
   "execution_count": null,
   "metadata": {
    "execution": {
     "iopub.status.busy": "2023-11-12T07:38:38.200678Z",
     "iopub.status.idle": "2023-11-12T07:38:38.202007Z",
     "shell.execute_reply": "2023-11-12T07:38:38.201718Z"
    },
    "tags": []
   },
   "outputs": [],
   "source": [
    "# torch.cuda.empty_cache()\n",
    "\n",
    "# model = Net()\n",
    "# model.cuda()\n",
    "# criterion = nn.CrossEntropyLoss()\n",
    "# optimizer = torch.optim.Adam(model.parameters(), lr=0.001)\n",
    "\n",
    "\n",
    "# model(torch.tensor(dataloader))"
   ]
  },
  {
   "cell_type": "code",
   "execution_count": null,
   "metadata": {
    "execution": {
     "iopub.status.busy": "2023-11-12T07:06:00.230368Z",
     "iopub.status.idle": "2023-11-12T07:06:00.231406Z",
     "shell.execute_reply": "2023-11-12T07:06:00.231102Z"
    },
    "tags": []
   },
   "outputs": [],
   "source": [
    "import gc\n",
    "gc.collect()"
   ]
  }
 ],
 "metadata": {
  "kernelspec": {
   "display_name": "DataSphere Kernel",
   "language": "python",
   "name": "python3"
  },
  "language_info": {
   "codemirror_mode": {
    "name": "ipython",
    "version": 3
   },
   "file_extension": ".py",
   "mimetype": "text/x-python",
   "name": "python",
   "nbconvert_exporter": "python",
   "pygments_lexer": "ipython3",
   "version": "3.7.7"
  }
 },
 "nbformat": 4,
 "nbformat_minor": 4
}
